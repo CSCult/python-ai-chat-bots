{
  "nbformat": 4,
  "nbformat_minor": 0,
  "metadata": {
    "colab": {
      "name": "AI_CHATBOT.ipynb",
      "provenance": [],
      "collapsed_sections": []
    },
    "kernelspec": {
      "name": "python3",
      "display_name": "Python 3"
    },
    "language_info": {
      "name": "python"
    },
    "accelerator": "GPU"
  },
  "cells": [
    {
      "cell_type": "markdown",
      "metadata": {
        "id": "nI9-5JQ4G4eV"
      },
      "source": [
        "# Importing libraries and downloading packages"
      ]
    },
    {
      "cell_type": "code",
      "metadata": {
        "id": "STX3NslzG8B_"
      },
      "source": [
        "import nltk\n",
        "import numpy as np\n",
        "from nltk.tokenize import word_tokenize\n",
        "from nltk.corpus import stopwords\n",
        "from nltk.stem import WordNetLemmatizer"
      ],
      "execution_count": 1,
      "outputs": []
    },
    {
      "cell_type": "code",
      "metadata": {
        "id": "SP6GZWjHGsiv",
        "colab": {
          "base_uri": "https://localhost:8080/"
        },
        "outputId": "b4f341bf-14e0-4af1-e75f-53f6a8f0961f"
      },
      "source": [
        "# downloading model to tokenize messages\n",
        "nltk.download('punkt', quiet=True)\n",
        "# downloading stopwords\n",
        "nltk.download('stopwords', quiet=True)\n",
        "# downloading wordnet, which contains all lemmas of english language\n",
        "nltk.download('wordnet', quiet=True)"
      ],
      "execution_count": 2,
      "outputs": [
        {
          "output_type": "execute_result",
          "data": {
            "text/plain": [
              "True"
            ]
          },
          "metadata": {
            "tags": []
          },
          "execution_count": 2
        }
      ]
    },
    {
      "cell_type": "code",
      "metadata": {
        "id": "-9BORL4jGsm3",
        "colab": {
          "base_uri": "https://localhost:8080/"
        },
        "outputId": "c4afb6af-e296-402d-dba5-66b5592a9777"
      },
      "source": [
        "stop_words = stopwords.words('english')\n",
        "stop_words"
      ],
      "execution_count": 3,
      "outputs": [
        {
          "output_type": "execute_result",
          "data": {
            "text/plain": [
              "['i',\n",
              " 'me',\n",
              " 'my',\n",
              " 'myself',\n",
              " 'we',\n",
              " 'our',\n",
              " 'ours',\n",
              " 'ourselves',\n",
              " 'you',\n",
              " \"you're\",\n",
              " \"you've\",\n",
              " \"you'll\",\n",
              " \"you'd\",\n",
              " 'your',\n",
              " 'yours',\n",
              " 'yourself',\n",
              " 'yourselves',\n",
              " 'he',\n",
              " 'him',\n",
              " 'his',\n",
              " 'himself',\n",
              " 'she',\n",
              " \"she's\",\n",
              " 'her',\n",
              " 'hers',\n",
              " 'herself',\n",
              " 'it',\n",
              " \"it's\",\n",
              " 'its',\n",
              " 'itself',\n",
              " 'they',\n",
              " 'them',\n",
              " 'their',\n",
              " 'theirs',\n",
              " 'themselves',\n",
              " 'what',\n",
              " 'which',\n",
              " 'who',\n",
              " 'whom',\n",
              " 'this',\n",
              " 'that',\n",
              " \"that'll\",\n",
              " 'these',\n",
              " 'those',\n",
              " 'am',\n",
              " 'is',\n",
              " 'are',\n",
              " 'was',\n",
              " 'were',\n",
              " 'be',\n",
              " 'been',\n",
              " 'being',\n",
              " 'have',\n",
              " 'has',\n",
              " 'had',\n",
              " 'having',\n",
              " 'do',\n",
              " 'does',\n",
              " 'did',\n",
              " 'doing',\n",
              " 'a',\n",
              " 'an',\n",
              " 'the',\n",
              " 'and',\n",
              " 'but',\n",
              " 'if',\n",
              " 'or',\n",
              " 'because',\n",
              " 'as',\n",
              " 'until',\n",
              " 'while',\n",
              " 'of',\n",
              " 'at',\n",
              " 'by',\n",
              " 'for',\n",
              " 'with',\n",
              " 'about',\n",
              " 'against',\n",
              " 'between',\n",
              " 'into',\n",
              " 'through',\n",
              " 'during',\n",
              " 'before',\n",
              " 'after',\n",
              " 'above',\n",
              " 'below',\n",
              " 'to',\n",
              " 'from',\n",
              " 'up',\n",
              " 'down',\n",
              " 'in',\n",
              " 'out',\n",
              " 'on',\n",
              " 'off',\n",
              " 'over',\n",
              " 'under',\n",
              " 'again',\n",
              " 'further',\n",
              " 'then',\n",
              " 'once',\n",
              " 'here',\n",
              " 'there',\n",
              " 'when',\n",
              " 'where',\n",
              " 'why',\n",
              " 'how',\n",
              " 'all',\n",
              " 'any',\n",
              " 'both',\n",
              " 'each',\n",
              " 'few',\n",
              " 'more',\n",
              " 'most',\n",
              " 'other',\n",
              " 'some',\n",
              " 'such',\n",
              " 'no',\n",
              " 'nor',\n",
              " 'not',\n",
              " 'only',\n",
              " 'own',\n",
              " 'same',\n",
              " 'so',\n",
              " 'than',\n",
              " 'too',\n",
              " 'very',\n",
              " 's',\n",
              " 't',\n",
              " 'can',\n",
              " 'will',\n",
              " 'just',\n",
              " 'don',\n",
              " \"don't\",\n",
              " 'should',\n",
              " \"should've\",\n",
              " 'now',\n",
              " 'd',\n",
              " 'll',\n",
              " 'm',\n",
              " 'o',\n",
              " 're',\n",
              " 've',\n",
              " 'y',\n",
              " 'ain',\n",
              " 'aren',\n",
              " \"aren't\",\n",
              " 'couldn',\n",
              " \"couldn't\",\n",
              " 'didn',\n",
              " \"didn't\",\n",
              " 'doesn',\n",
              " \"doesn't\",\n",
              " 'hadn',\n",
              " \"hadn't\",\n",
              " 'hasn',\n",
              " \"hasn't\",\n",
              " 'haven',\n",
              " \"haven't\",\n",
              " 'isn',\n",
              " \"isn't\",\n",
              " 'ma',\n",
              " 'mightn',\n",
              " \"mightn't\",\n",
              " 'mustn',\n",
              " \"mustn't\",\n",
              " 'needn',\n",
              " \"needn't\",\n",
              " 'shan',\n",
              " \"shan't\",\n",
              " 'shouldn',\n",
              " \"shouldn't\",\n",
              " 'wasn',\n",
              " \"wasn't\",\n",
              " 'weren',\n",
              " \"weren't\",\n",
              " 'won',\n",
              " \"won't\",\n",
              " 'wouldn',\n",
              " \"wouldn't\"]"
            ]
          },
          "metadata": {
            "tags": []
          },
          "execution_count": 3
        }
      ]
    },
    {
      "cell_type": "markdown",
      "metadata": {
        "id": "-RvFrr9kHBPG"
      },
      "source": [
        "# Function to clean the text\n",
        "\n",
        "### tokenizing, lemmatizing and removing stopwords"
      ]
    },
    {
      "cell_type": "code",
      "metadata": {
        "id": "6XHxL_vUGsp5"
      },
      "source": [
        "def clean_corpus(corpus):\n",
        "  # lowering every word in text\n",
        "  corpus = [ doc.lower() for doc in corpus]\n",
        "  cleaned_corpus = []\n",
        "  \n",
        "  stop_words = stopwords.words('english')\n",
        "  wordnet_lemmatizer = WordNetLemmatizer()\n",
        "\n",
        "  # iterating over every text\n",
        "  for doc in corpus:\n",
        "    # tokenizing text\n",
        "    tokens = word_tokenize(doc)\n",
        "    cleaned_sentence = [] \n",
        "    for token in tokens: \n",
        "      # removing stopwords, and punctuation\n",
        "      if token not in stop_words and token.isalpha(): \n",
        "        # applying lemmatization\n",
        "        cleaned_sentence.append(wordnet_lemmatizer.lemmatize(token)) \n",
        "    cleaned_corpus.append(' '.join(cleaned_sentence))\n",
        "  return cleaned_corpus"
      ],
      "execution_count": 4,
      "outputs": []
    },
    {
      "cell_type": "markdown",
      "metadata": {
        "id": "Z2VyF4RoHEm-"
      },
      "source": [
        "# Loading and Cleaning our intents"
      ]
    },
    {
      "cell_type": "code",
      "metadata": {
        "id": "m3aHTAWJGsss"
      },
      "source": [
        "import json\n",
        "with open('intents.json') as file:\n",
        "    intents = json.load(file)"
      ],
      "execution_count": 5,
      "outputs": []
    },
    {
      "cell_type": "code",
      "metadata": {
        "id": "C6v-UgBOGsvZ"
      },
      "source": [
        "corpus = []\n",
        "tags = []\n",
        "\n",
        "for intent in intents['intents']:\n",
        "    # taking all patterns in intents to train neural network\n",
        "    for pattern in intent['patterns']:\n",
        "        corpus.append(pattern)\n",
        "        tags.append(intent['tag'])"
      ],
      "execution_count": 6,
      "outputs": []
    },
    {
      "cell_type": "code",
      "metadata": {
        "colab": {
          "base_uri": "https://localhost:8080/"
        },
        "id": "162RjUTzGsx6",
        "outputId": "4f45f507-9ef7-4530-b4ad-a7f4f2141477"
      },
      "source": [
        "cleaned_corpus = clean_corpus(corpus)\n",
        "cleaned_corpus"
      ],
      "execution_count": 7,
      "outputs": [
        {
          "output_type": "execute_result",
          "data": {
            "text/plain": [
              "['hello',\n",
              " 'hey',\n",
              " 'hi',\n",
              " '',\n",
              " 'good day',\n",
              " 'greeting',\n",
              " '',\n",
              " 'going',\n",
              " 'see later',\n",
              " 'goodbye',\n",
              " 'leaving',\n",
              " 'good day',\n",
              " 'bye',\n",
              " 'greeting',\n",
              " 'see ya',\n",
              " 'bbye',\n",
              " 'name',\n",
              " 'call',\n",
              " 'whats name',\n",
              " '',\n",
              " 'tell',\n",
              " 'thanks',\n",
              " 'thank',\n",
              " 'helpful',\n",
              " 'awesome thanks',\n",
              " 'thanks helping',\n",
              " 'tell joke',\n",
              " 'feeling bored',\n",
              " 'joke please',\n",
              " 'make laugh',\n",
              " 'want laugh']"
            ]
          },
          "metadata": {
            "tags": []
          },
          "execution_count": 7
        }
      ]
    },
    {
      "cell_type": "markdown",
      "metadata": {
        "id": "ZeDX_fDdHOvQ"
      },
      "source": [
        "# Vectorizing the intents"
      ]
    },
    {
      "cell_type": "code",
      "metadata": {
        "id": "ojxM1Z-kGs0W"
      },
      "source": [
        "from sklearn.feature_extraction.text import TfidfVectorizer\n",
        "vectorizer = TfidfVectorizer()\n",
        "X = vectorizer.fit_transform(cleaned_corpus)"
      ],
      "execution_count": 8,
      "outputs": []
    },
    {
      "cell_type": "code",
      "metadata": {
        "colab": {
          "base_uri": "https://localhost:8080/"
        },
        "id": "p8ad2QlOHRpA",
        "outputId": "d12ba416-598a-4798-b255-993c9fde26d8"
      },
      "source": [
        "X.shape"
      ],
      "execution_count": 9,
      "outputs": [
        {
          "output_type": "execute_result",
          "data": {
            "text/plain": [
              "(31, 30)"
            ]
          },
          "metadata": {
            "tags": []
          },
          "execution_count": 9
        }
      ]
    },
    {
      "cell_type": "code",
      "metadata": {
        "id": "pUs4LSV2HRsC"
      },
      "source": [
        "from sklearn.preprocessing import OneHotEncoder\n",
        "encoder = OneHotEncoder()\n",
        "Y = encoder.fit_transform(np.array(tags).reshape(-1,1))"
      ],
      "execution_count": 10,
      "outputs": []
    },
    {
      "cell_type": "code",
      "metadata": {
        "colab": {
          "base_uri": "https://localhost:8080/"
        },
        "id": "YVi8TIAcHRvG",
        "outputId": "7ad54007-85ed-432c-cb09-6e0a349623c8"
      },
      "source": [
        "Y.shape"
      ],
      "execution_count": 11,
      "outputs": [
        {
          "output_type": "execute_result",
          "data": {
            "text/plain": [
              "(31, 5)"
            ]
          },
          "metadata": {
            "tags": []
          },
          "execution_count": 11
        }
      ]
    },
    {
      "cell_type": "markdown",
      "metadata": {
        "id": "O5b61YzXHYu0"
      },
      "source": [
        "# Training Neural Network"
      ]
    },
    {
      "cell_type": "code",
      "metadata": {
        "colab": {
          "base_uri": "https://localhost:8080/"
        },
        "id": "_cQseC1xHRx6",
        "outputId": "d6b80656-aae5-4db6-a2ee-1ba46af72bfd"
      },
      "source": [
        "from tensorflow.keras import Sequential\n",
        "from tensorflow.keras.layers import Dense, Dropout\n",
        "\n",
        "model = Sequential([\n",
        "    Dense(128, input_shape=(X.shape[1],), activation='relu'),\n",
        "    Dropout(0.2),\n",
        "    Dense(64, activation='relu'),\n",
        "    Dropout(0.2),\n",
        "    Dense(Y.shape[1], activation='softmax'),\n",
        "])\n",
        "\n",
        "model.compile(loss='categorical_crossentropy', optimizer='adam', metrics='accuracy')\n",
        "model.summary()"
      ],
      "execution_count": 12,
      "outputs": [
        {
          "output_type": "stream",
          "text": [
            "Model: \"sequential\"\n",
            "_________________________________________________________________\n",
            "Layer (type)                 Output Shape              Param #   \n",
            "=================================================================\n",
            "dense (Dense)                (None, 128)               3968      \n",
            "_________________________________________________________________\n",
            "dropout (Dropout)            (None, 128)               0         \n",
            "_________________________________________________________________\n",
            "dense_1 (Dense)              (None, 64)                8256      \n",
            "_________________________________________________________________\n",
            "dropout_1 (Dropout)          (None, 64)                0         \n",
            "_________________________________________________________________\n",
            "dense_2 (Dense)              (None, 5)                 325       \n",
            "=================================================================\n",
            "Total params: 12,549\n",
            "Trainable params: 12,549\n",
            "Non-trainable params: 0\n",
            "_________________________________________________________________\n"
          ],
          "name": "stdout"
        }
      ]
    },
    {
      "cell_type": "code",
      "metadata": {
        "colab": {
          "base_uri": "https://localhost:8080/"
        },
        "id": "wTmouXL9HcxL",
        "outputId": "888e1f95-dafa-4a3e-b638-e8a1cfac2974"
      },
      "source": [
        "hist = model.fit(X.toarray(), Y.toarray(), epochs=20, batch_size=1)"
      ],
      "execution_count": 13,
      "outputs": [
        {
          "output_type": "stream",
          "text": [
            "Epoch 1/20\n",
            "31/31 [==============================] - 3s 3ms/step - loss: 1.6354 - accuracy: 0.0968\n",
            "Epoch 2/20\n",
            "31/31 [==============================] - 0s 3ms/step - loss: 1.5904 - accuracy: 0.2581\n",
            "Epoch 3/20\n",
            "31/31 [==============================] - 0s 3ms/step - loss: 1.5234 - accuracy: 0.4194\n",
            "Epoch 4/20\n",
            "31/31 [==============================] - 0s 3ms/step - loss: 1.4536 - accuracy: 0.5161\n",
            "Epoch 5/20\n",
            "31/31 [==============================] - 0s 3ms/step - loss: 1.4000 - accuracy: 0.4516\n",
            "Epoch 6/20\n",
            "31/31 [==============================] - 0s 3ms/step - loss: 1.3036 - accuracy: 0.7097\n",
            "Epoch 7/20\n",
            "31/31 [==============================] - 0s 3ms/step - loss: 1.2274 - accuracy: 0.7419\n",
            "Epoch 8/20\n",
            "31/31 [==============================] - 0s 3ms/step - loss: 1.0976 - accuracy: 0.9355\n",
            "Epoch 9/20\n",
            "31/31 [==============================] - 0s 3ms/step - loss: 1.0145 - accuracy: 0.7419\n",
            "Epoch 10/20\n",
            "31/31 [==============================] - 0s 3ms/step - loss: 0.8865 - accuracy: 0.9355\n",
            "Epoch 11/20\n",
            "31/31 [==============================] - 0s 3ms/step - loss: 0.7729 - accuracy: 0.9032\n",
            "Epoch 12/20\n",
            "31/31 [==============================] - 0s 3ms/step - loss: 0.6385 - accuracy: 0.8710\n",
            "Epoch 13/20\n",
            "31/31 [==============================] - 0s 3ms/step - loss: 0.5248 - accuracy: 0.8387\n",
            "Epoch 14/20\n",
            "31/31 [==============================] - 0s 3ms/step - loss: 0.4856 - accuracy: 0.8710\n",
            "Epoch 15/20\n",
            "31/31 [==============================] - 0s 3ms/step - loss: 0.3668 - accuracy: 0.9355\n",
            "Epoch 16/20\n",
            "31/31 [==============================] - 0s 3ms/step - loss: 0.4294 - accuracy: 0.8710\n",
            "Epoch 17/20\n",
            "31/31 [==============================] - 0s 3ms/step - loss: 0.3537 - accuracy: 0.9032\n",
            "Epoch 18/20\n",
            "31/31 [==============================] - 0s 3ms/step - loss: 0.3276 - accuracy: 0.8387\n",
            "Epoch 19/20\n",
            "31/31 [==============================] - 0s 3ms/step - loss: 0.3020 - accuracy: 0.9355\n",
            "Epoch 20/20\n",
            "31/31 [==============================] - 0s 3ms/step - loss: 0.2921 - accuracy: 0.9032\n"
          ],
          "name": "stdout"
        }
      ]
    },
    {
      "cell_type": "markdown",
      "metadata": {
        "id": "QgHdWFS_Hh6H"
      },
      "source": [
        "# Classifying messages to intents"
      ]
    },
    {
      "cell_type": "code",
      "metadata": {
        "colab": {
          "base_uri": "https://localhost:8080/"
        },
        "id": "AAGxnZr4HixG",
        "outputId": "60cb1f53-b243-42e0-be25-5cc916644b34"
      },
      "source": [
        "def predict_intent_tag(message):\n",
        "    message = clean_corpus([message])\n",
        "    X_test = vectorizer.transform(message)\n",
        "    y = model.predict(X_test.toarray())\n",
        "\n",
        "    prediction = np.zeros_like(y[0])\n",
        "    prediction[y.argmax()] = 1\n",
        "    tag = encoder.inverse_transform([prediction])[0][0]\n",
        "    return tag\n",
        "\n",
        "\n",
        "print(predict_intent_tag('Hello'))\n",
        "print(predict_intent_tag('Tell me a joke'))\n",
        "print(predict_intent_tag('What is your name?'))"
      ],
      "execution_count": 14,
      "outputs": [
        {
          "output_type": "stream",
          "text": [
            "greetings\n",
            "joke\n",
            "name\n"
          ],
          "name": "stdout"
        }
      ]
    },
    {
      "cell_type": "code",
      "metadata": {
        "id": "3b1DyKGgHoT9"
      },
      "source": [
        "import random"
      ],
      "execution_count": 15,
      "outputs": []
    },
    {
      "cell_type": "code",
      "metadata": {
        "id": "geYYJAMDHptP"
      },
      "source": [
        "def get_intent(tag):\n",
        "    # to return complete intent from intent tag\n",
        "    for intent in intents['intents']:\n",
        "        if intent['tag'] == tag:\n",
        "            return intent"
      ],
      "execution_count": 16,
      "outputs": []
    },
    {
      "cell_type": "markdown",
      "metadata": {
        "id": "YfN8fSklHs7A"
      },
      "source": [
        "# Complete Chatbot"
      ]
    },
    {
      "cell_type": "code",
      "metadata": {
        "id": "y-919xhrIwpR",
        "colab": {
          "base_uri": "https://localhost:8080/"
        },
        "outputId": "7b462b36-3485-4fd7-c742-622bd26e6d7f"
      },
      "source": [
        "while True:\n",
        "    message = input('You: ')\n",
        "    # predict intent tag using trained neural network\n",
        "    tag = predict_intent_tag(message)\n",
        "    # get complete intent from intent tag\n",
        "    intent = get_intent(tag)\n",
        "    # generate random response from intent\n",
        "    response = random.choice(intent['responses'])\n",
        "    print('Bot: ', response)\n",
        "\n",
        "    if tag == 'goodbye':\n",
        "        break"
      ],
      "execution_count": 17,
      "outputs": [
        {
          "output_type": "stream",
          "text": [
            "You: Hey\n",
            "Bot:  What can I do for you?\n",
            "You: How are you\n",
            "Bot:  Hello!\n",
            "You: What is your name?\n",
            "Bot:  I'm Mike the assistant of Mihir!\n",
            "You: Tell me a joke\n",
            "Bot:  What has T in the beginning, T in the middle, and T at the end? \n",
            "- A teapot.\n",
            "You: oh thanks\n",
            "Bot:  Happy to help!\n",
            "You: goodbye\n",
            "Bot:  Goodbye!\n"
          ],
          "name": "stdout"
        }
      ]
    }
  ]
}